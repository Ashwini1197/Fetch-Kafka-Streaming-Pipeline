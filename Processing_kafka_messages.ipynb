{
 "cells": [
  {
   "cell_type": "markdown",
   "metadata": {},
   "source": [
    "### Exploratory Analysis Done on 5000 messages"
   ]
  },
  {
   "cell_type": "code",
   "execution_count": 31,
   "metadata": {},
   "outputs": [],
   "source": [
    "import pandas as pd\n",
    "import json"
   ]
  },
  {
   "cell_type": "code",
   "execution_count": 32,
   "metadata": {},
   "outputs": [],
   "source": [
    "# Load the JSON file\n",
    "with open('processed_data.json') as file:\n",
    "    json_data = json.load(file)\n"
   ]
  },
  {
   "cell_type": "code",
   "execution_count": 33,
   "metadata": {},
   "outputs": [],
   "source": [
    "\n",
    "# Parse JSON strings\n",
    "parsed_data = [json.loads(item) for item in json_data]\n",
    "\n",
    "# Create DataFrame\n",
    "df = pd.DataFrame(parsed_data)"
   ]
  },
  {
   "cell_type": "code",
   "execution_count": 34,
   "metadata": {},
   "outputs": [
    {
     "data": {
      "text/html": [
       "<div>\n",
       "<style scoped>\n",
       "    .dataframe tbody tr th:only-of-type {\n",
       "        vertical-align: middle;\n",
       "    }\n",
       "\n",
       "    .dataframe tbody tr th {\n",
       "        vertical-align: top;\n",
       "    }\n",
       "\n",
       "    .dataframe thead th {\n",
       "        text-align: right;\n",
       "    }\n",
       "</style>\n",
       "<table border=\"1\" class=\"dataframe\">\n",
       "  <thead>\n",
       "    <tr style=\"text-align: right;\">\n",
       "      <th></th>\n",
       "      <th>user_id</th>\n",
       "      <th>app_version</th>\n",
       "      <th>ip</th>\n",
       "      <th>locale</th>\n",
       "      <th>device_id</th>\n",
       "      <th>timestamp</th>\n",
       "      <th>device_type</th>\n",
       "      <th>processed</th>\n",
       "      <th>processing_time</th>\n",
       "    </tr>\n",
       "  </thead>\n",
       "  <tbody>\n",
       "    <tr>\n",
       "      <th>0</th>\n",
       "      <td>1597f878-5bcc-42cc-8d5f-0812be733523</td>\n",
       "      <td>2.3.0</td>\n",
       "      <td>102.119.42.220</td>\n",
       "      <td>CA</td>\n",
       "      <td>7f18718a-e6dd-459c-8461-29cc37475adf</td>\n",
       "      <td>2024-07-13T21:17:07</td>\n",
       "      <td>android</td>\n",
       "      <td>True</td>\n",
       "      <td>2024-07-13T18:08:37.224112</td>\n",
       "    </tr>\n",
       "    <tr>\n",
       "      <th>1</th>\n",
       "      <td>46bd7cde-804c-471a-bfc0-dc78314f0b78</td>\n",
       "      <td>2.3.0</td>\n",
       "      <td>53.191.16.232</td>\n",
       "      <td>PA</td>\n",
       "      <td>a19ca3e0-ae08-4416-b2cb-0ee7686caee2</td>\n",
       "      <td>2024-07-13T21:17:08</td>\n",
       "      <td>iOS</td>\n",
       "      <td>True</td>\n",
       "      <td>2024-07-13T18:08:37.226147</td>\n",
       "    </tr>\n",
       "    <tr>\n",
       "      <th>2</th>\n",
       "      <td>7e6d72a7-0e87-430d-945e-90b359b43b19</td>\n",
       "      <td>2.3.0</td>\n",
       "      <td>124.187.143.31</td>\n",
       "      <td>NJ</td>\n",
       "      <td>c3f92aed-b493-4942-b9a1-aca0233905e8</td>\n",
       "      <td>2024-07-13T21:17:08</td>\n",
       "      <td>android</td>\n",
       "      <td>True</td>\n",
       "      <td>2024-07-13T18:08:37.226434</td>\n",
       "    </tr>\n",
       "    <tr>\n",
       "      <th>3</th>\n",
       "      <td>b49ea473-aca0-4b4a-ba37-564c4d1e20e8</td>\n",
       "      <td>2.3.0</td>\n",
       "      <td>144.143.174.192</td>\n",
       "      <td>MD</td>\n",
       "      <td>0f5be198-84a7-42b8-816d-c33f5917cfe0</td>\n",
       "      <td>2024-07-13T21:17:09</td>\n",
       "      <td>iOS</td>\n",
       "      <td>True</td>\n",
       "      <td>2024-07-13T18:08:37.226656</td>\n",
       "    </tr>\n",
       "    <tr>\n",
       "      <th>4</th>\n",
       "      <td>9bf98503-5f52-432d-9d5c-f5473da47750</td>\n",
       "      <td>2.3.0</td>\n",
       "      <td>217.239.117.74</td>\n",
       "      <td>DE</td>\n",
       "      <td>7c9e98a0-fb44-4c0d-be83-027b7f7031f4</td>\n",
       "      <td>2024-07-13T21:17:09</td>\n",
       "      <td>android</td>\n",
       "      <td>True</td>\n",
       "      <td>2024-07-13T18:08:37.226854</td>\n",
       "    </tr>\n",
       "  </tbody>\n",
       "</table>\n",
       "</div>"
      ],
      "text/plain": [
       "                                user_id app_version               ip locale  \\\n",
       "0  1597f878-5bcc-42cc-8d5f-0812be733523       2.3.0   102.119.42.220     CA   \n",
       "1  46bd7cde-804c-471a-bfc0-dc78314f0b78       2.3.0    53.191.16.232     PA   \n",
       "2  7e6d72a7-0e87-430d-945e-90b359b43b19       2.3.0   124.187.143.31     NJ   \n",
       "3  b49ea473-aca0-4b4a-ba37-564c4d1e20e8       2.3.0  144.143.174.192     MD   \n",
       "4  9bf98503-5f52-432d-9d5c-f5473da47750       2.3.0   217.239.117.74     DE   \n",
       "\n",
       "                              device_id            timestamp device_type  \\\n",
       "0  7f18718a-e6dd-459c-8461-29cc37475adf  2024-07-13T21:17:07     android   \n",
       "1  a19ca3e0-ae08-4416-b2cb-0ee7686caee2  2024-07-13T21:17:08         iOS   \n",
       "2  c3f92aed-b493-4942-b9a1-aca0233905e8  2024-07-13T21:17:08     android   \n",
       "3  0f5be198-84a7-42b8-816d-c33f5917cfe0  2024-07-13T21:17:09         iOS   \n",
       "4  7c9e98a0-fb44-4c0d-be83-027b7f7031f4  2024-07-13T21:17:09     android   \n",
       "\n",
       "   processed             processing_time  \n",
       "0       True  2024-07-13T18:08:37.224112  \n",
       "1       True  2024-07-13T18:08:37.226147  \n",
       "2       True  2024-07-13T18:08:37.226434  \n",
       "3       True  2024-07-13T18:08:37.226656  \n",
       "4       True  2024-07-13T18:08:37.226854  "
      ]
     },
     "execution_count": 34,
     "metadata": {},
     "output_type": "execute_result"
    }
   ],
   "source": [
    "df.head()"
   ]
  },
  {
   "cell_type": "code",
   "execution_count": 35,
   "metadata": {},
   "outputs": [
    {
     "data": {
      "text/plain": [
       "(5000, 9)"
      ]
     },
     "execution_count": 35,
     "metadata": {},
     "output_type": "execute_result"
    }
   ],
   "source": [
    "df.shape"
   ]
  },
  {
   "cell_type": "code",
   "execution_count": 36,
   "metadata": {},
   "outputs": [
    {
     "name": "stdout",
     "output_type": "stream",
     "text": [
      "<class 'pandas.core.frame.DataFrame'>\n",
      "RangeIndex: 5000 entries, 0 to 4999\n",
      "Data columns (total 9 columns):\n",
      " #   Column           Non-Null Count  Dtype \n",
      "---  ------           --------------  ----- \n",
      " 0   user_id          5000 non-null   object\n",
      " 1   app_version      5000 non-null   object\n",
      " 2   ip               5000 non-null   object\n",
      " 3   locale           5000 non-null   object\n",
      " 4   device_id        5000 non-null   object\n",
      " 5   timestamp        5000 non-null   object\n",
      " 6   device_type      4758 non-null   object\n",
      " 7   processed        5000 non-null   bool  \n",
      " 8   processing_time  5000 non-null   object\n",
      "dtypes: bool(1), object(8)\n",
      "memory usage: 317.5+ KB\n"
     ]
    }
   ],
   "source": [
    "df.info()"
   ]
  },
  {
   "cell_type": "code",
   "execution_count": 38,
   "metadata": {},
   "outputs": [
    {
     "name": "stdout",
     "output_type": "stream",
     "text": [
      "user_id              0\n",
      "app_version          0\n",
      "ip                   0\n",
      "locale               0\n",
      "device_id            0\n",
      "timestamp            0\n",
      "device_type        242\n",
      "processed            0\n",
      "processing_time      0\n",
      "dtype: int64\n"
     ]
    }
   ],
   "source": [
    "# Check for missing values\n",
    "print(df.isnull().sum())\n"
   ]
  },
  {
   "cell_type": "code",
   "execution_count": 40,
   "metadata": {},
   "outputs": [
    {
     "data": {
      "text/html": [
       "<div>\n",
       "<style scoped>\n",
       "    .dataframe tbody tr th:only-of-type {\n",
       "        vertical-align: middle;\n",
       "    }\n",
       "\n",
       "    .dataframe tbody tr th {\n",
       "        vertical-align: top;\n",
       "    }\n",
       "\n",
       "    .dataframe thead th {\n",
       "        text-align: right;\n",
       "    }\n",
       "</style>\n",
       "<table border=\"1\" class=\"dataframe\">\n",
       "  <thead>\n",
       "    <tr style=\"text-align: right;\">\n",
       "      <th></th>\n",
       "      <th>user_id</th>\n",
       "      <th>app_version</th>\n",
       "      <th>ip</th>\n",
       "      <th>locale</th>\n",
       "      <th>device_id</th>\n",
       "      <th>timestamp</th>\n",
       "      <th>device_type</th>\n",
       "      <th>processed</th>\n",
       "      <th>processing_time</th>\n",
       "    </tr>\n",
       "  </thead>\n",
       "  <tbody>\n",
       "    <tr>\n",
       "      <th>1</th>\n",
       "      <td>46bd7cde-804c-471a-bfc0-dc78314f0b78</td>\n",
       "      <td>2.3.0</td>\n",
       "      <td>53.191.16.232</td>\n",
       "      <td>PA</td>\n",
       "      <td>a19ca3e0-ae08-4416-b2cb-0ee7686caee2</td>\n",
       "      <td>2024-07-13T21:17:08</td>\n",
       "      <td>iOS</td>\n",
       "      <td>True</td>\n",
       "      <td>2024-07-13T18:08:37.226147</td>\n",
       "    </tr>\n",
       "    <tr>\n",
       "      <th>3</th>\n",
       "      <td>b49ea473-aca0-4b4a-ba37-564c4d1e20e8</td>\n",
       "      <td>2.3.0</td>\n",
       "      <td>144.143.174.192</td>\n",
       "      <td>MD</td>\n",
       "      <td>0f5be198-84a7-42b8-816d-c33f5917cfe0</td>\n",
       "      <td>2024-07-13T21:17:09</td>\n",
       "      <td>iOS</td>\n",
       "      <td>True</td>\n",
       "      <td>2024-07-13T18:08:37.226656</td>\n",
       "    </tr>\n",
       "    <tr>\n",
       "      <th>5</th>\n",
       "      <td>e441242d-40a3-46cd-ab0d-580eb0f7b7bb</td>\n",
       "      <td>2.3.0</td>\n",
       "      <td>206.17.123.94</td>\n",
       "      <td>AZ</td>\n",
       "      <td>04b13eff-f6a9-4b5a-a418-86426083f044</td>\n",
       "      <td>2024-07-13T21:17:10</td>\n",
       "      <td>iOS</td>\n",
       "      <td>True</td>\n",
       "      <td>2024-07-13T18:08:37.227046</td>\n",
       "    </tr>\n",
       "    <tr>\n",
       "      <th>6</th>\n",
       "      <td>aa929ea6-515c-4ab5-98db-039696a5e882</td>\n",
       "      <td>2.3.0</td>\n",
       "      <td>65.157.48.243</td>\n",
       "      <td>MA</td>\n",
       "      <td>e1e8e411-8461-4064-a876-fc7234ae35b9</td>\n",
       "      <td>2024-07-13T21:17:10</td>\n",
       "      <td>iOS</td>\n",
       "      <td>True</td>\n",
       "      <td>2024-07-13T18:08:37.227242</td>\n",
       "    </tr>\n",
       "    <tr>\n",
       "      <th>8</th>\n",
       "      <td>0818718a-4d0d-48b7-a732-b77ec12c8488</td>\n",
       "      <td>2.3.0</td>\n",
       "      <td>92.73.76.133</td>\n",
       "      <td>WA</td>\n",
       "      <td>f48b562e-96d0-4607-a485-2eebad70247b</td>\n",
       "      <td>2024-07-13T21:17:11</td>\n",
       "      <td>iOS</td>\n",
       "      <td>True</td>\n",
       "      <td>2024-07-13T18:08:37.227623</td>\n",
       "    </tr>\n",
       "    <tr>\n",
       "      <th>...</th>\n",
       "      <td>...</td>\n",
       "      <td>...</td>\n",
       "      <td>...</td>\n",
       "      <td>...</td>\n",
       "      <td>...</td>\n",
       "      <td>...</td>\n",
       "      <td>...</td>\n",
       "      <td>...</td>\n",
       "      <td>...</td>\n",
       "    </tr>\n",
       "    <tr>\n",
       "      <th>4987</th>\n",
       "      <td>a1d12518-7568-41df-9f0d-c3f69d3b63f3</td>\n",
       "      <td>2.3.0</td>\n",
       "      <td>229.181.167.101</td>\n",
       "      <td>NM</td>\n",
       "      <td>ae8022f9-0128-45c9-960b-9d6dd6c1eadb</td>\n",
       "      <td>2024-07-13T22:08:36</td>\n",
       "      <td>iOS</td>\n",
       "      <td>True</td>\n",
       "      <td>2024-07-13T18:08:37.757218</td>\n",
       "    </tr>\n",
       "    <tr>\n",
       "      <th>4990</th>\n",
       "      <td>53d9bc19-5e30-45de-a9af-494c90cb3257</td>\n",
       "      <td>2.3.0</td>\n",
       "      <td>207.247.12.223</td>\n",
       "      <td>OR</td>\n",
       "      <td>5699bb71-a107-4ee0-aab0-e211e31ba022</td>\n",
       "      <td>2024-07-13T22:08:37</td>\n",
       "      <td>iOS</td>\n",
       "      <td>True</td>\n",
       "      <td>2024-07-13T18:08:37.975943</td>\n",
       "    </tr>\n",
       "    <tr>\n",
       "      <th>4992</th>\n",
       "      <td>1e100057-c280-4355-94c8-2248b04a5984</td>\n",
       "      <td>2.3.0</td>\n",
       "      <td>61.242.190.103</td>\n",
       "      <td>AL</td>\n",
       "      <td>a6aa9e29-01e1-45ce-b349-106301f54a59</td>\n",
       "      <td>2024-07-13T22:08:38</td>\n",
       "      <td>iOS</td>\n",
       "      <td>True</td>\n",
       "      <td>2024-07-13T18:08:38.985467</td>\n",
       "    </tr>\n",
       "    <tr>\n",
       "      <th>4996</th>\n",
       "      <td>9f1c7b30-6265-475a-bac7-5bb45f23fd04</td>\n",
       "      <td>2.3.0</td>\n",
       "      <td>133.128.53.233</td>\n",
       "      <td>MS</td>\n",
       "      <td>c3a925c1-2b05-43b4-b528-30b0965ed2b1</td>\n",
       "      <td>2024-07-13T22:08:41</td>\n",
       "      <td>iOS</td>\n",
       "      <td>True</td>\n",
       "      <td>2024-07-13T18:08:41.009909</td>\n",
       "    </tr>\n",
       "    <tr>\n",
       "      <th>4998</th>\n",
       "      <td>2337a235-2905-47ce-b45e-88b20ef62c53</td>\n",
       "      <td>2.3.0</td>\n",
       "      <td>142.136.235.216</td>\n",
       "      <td>WV</td>\n",
       "      <td>8e4b6236-d056-485e-9431-0f53d10f2a69</td>\n",
       "      <td>2024-07-13T22:08:42</td>\n",
       "      <td>iOS</td>\n",
       "      <td>True</td>\n",
       "      <td>2024-07-13T18:08:42.016003</td>\n",
       "    </tr>\n",
       "  </tbody>\n",
       "</table>\n",
       "<p>2420 rows × 9 columns</p>\n",
       "</div>"
      ],
      "text/plain": [
       "                                   user_id app_version               ip  \\\n",
       "1     46bd7cde-804c-471a-bfc0-dc78314f0b78       2.3.0    53.191.16.232   \n",
       "3     b49ea473-aca0-4b4a-ba37-564c4d1e20e8       2.3.0  144.143.174.192   \n",
       "5     e441242d-40a3-46cd-ab0d-580eb0f7b7bb       2.3.0    206.17.123.94   \n",
       "6     aa929ea6-515c-4ab5-98db-039696a5e882       2.3.0    65.157.48.243   \n",
       "8     0818718a-4d0d-48b7-a732-b77ec12c8488       2.3.0     92.73.76.133   \n",
       "...                                    ...         ...              ...   \n",
       "4987  a1d12518-7568-41df-9f0d-c3f69d3b63f3       2.3.0  229.181.167.101   \n",
       "4990  53d9bc19-5e30-45de-a9af-494c90cb3257       2.3.0   207.247.12.223   \n",
       "4992  1e100057-c280-4355-94c8-2248b04a5984       2.3.0   61.242.190.103   \n",
       "4996  9f1c7b30-6265-475a-bac7-5bb45f23fd04       2.3.0   133.128.53.233   \n",
       "4998  2337a235-2905-47ce-b45e-88b20ef62c53       2.3.0  142.136.235.216   \n",
       "\n",
       "     locale                             device_id            timestamp  \\\n",
       "1        PA  a19ca3e0-ae08-4416-b2cb-0ee7686caee2  2024-07-13T21:17:08   \n",
       "3        MD  0f5be198-84a7-42b8-816d-c33f5917cfe0  2024-07-13T21:17:09   \n",
       "5        AZ  04b13eff-f6a9-4b5a-a418-86426083f044  2024-07-13T21:17:10   \n",
       "6        MA  e1e8e411-8461-4064-a876-fc7234ae35b9  2024-07-13T21:17:10   \n",
       "8        WA  f48b562e-96d0-4607-a485-2eebad70247b  2024-07-13T21:17:11   \n",
       "...     ...                                   ...                  ...   \n",
       "4987     NM  ae8022f9-0128-45c9-960b-9d6dd6c1eadb  2024-07-13T22:08:36   \n",
       "4990     OR  5699bb71-a107-4ee0-aab0-e211e31ba022  2024-07-13T22:08:37   \n",
       "4992     AL  a6aa9e29-01e1-45ce-b349-106301f54a59  2024-07-13T22:08:38   \n",
       "4996     MS  c3a925c1-2b05-43b4-b528-30b0965ed2b1  2024-07-13T22:08:41   \n",
       "4998     WV  8e4b6236-d056-485e-9431-0f53d10f2a69  2024-07-13T22:08:42   \n",
       "\n",
       "     device_type  processed             processing_time  \n",
       "1            iOS       True  2024-07-13T18:08:37.226147  \n",
       "3            iOS       True  2024-07-13T18:08:37.226656  \n",
       "5            iOS       True  2024-07-13T18:08:37.227046  \n",
       "6            iOS       True  2024-07-13T18:08:37.227242  \n",
       "8            iOS       True  2024-07-13T18:08:37.227623  \n",
       "...          ...        ...                         ...  \n",
       "4987         iOS       True  2024-07-13T18:08:37.757218  \n",
       "4990         iOS       True  2024-07-13T18:08:37.975943  \n",
       "4992         iOS       True  2024-07-13T18:08:38.985467  \n",
       "4996         iOS       True  2024-07-13T18:08:41.009909  \n",
       "4998         iOS       True  2024-07-13T18:08:42.016003  \n",
       "\n",
       "[2420 rows x 9 columns]"
      ]
     },
     "execution_count": 40,
     "metadata": {},
     "output_type": "execute_result"
    }
   ],
   "source": [
    "# Filter by device type\n",
    "ios_df = df[df['device_type'] == 'iOS']\n",
    "ios_df\n"
   ]
  },
  {
   "cell_type": "code",
   "execution_count": 41,
   "metadata": {},
   "outputs": [
    {
     "name": "stdout",
     "output_type": "stream",
     "text": [
      "TN    123\n",
      "WA    121\n",
      "RI    119\n",
      "NC    117\n",
      "AZ    117\n",
      "CA    115\n",
      "VT    115\n",
      "AL    114\n",
      "OH    113\n",
      "IL    110\n",
      "PA    110\n",
      "NE    109\n",
      "IN    109\n",
      "MN    109\n",
      "CT    107\n",
      "GA    105\n",
      "NJ    105\n",
      "WY    105\n",
      "HI    105\n",
      "ID    104\n",
      "OK    103\n",
      "MO    103\n",
      "ME    102\n",
      "MT    102\n",
      "WI    102\n",
      "WV    101\n",
      "NM    101\n",
      "LA    100\n",
      "AK    100\n",
      "NY     95\n",
      "UT     94\n",
      "KS     94\n",
      "TX     94\n",
      "NH     93\n",
      "MA     91\n",
      "ND     91\n",
      "IA     91\n",
      "DE     91\n",
      "AR     91\n",
      "FL     90\n",
      "SD     90\n",
      "NV     89\n",
      "VA     89\n",
      "OR     89\n",
      "CO     85\n",
      "MD     83\n",
      "MS     83\n",
      "SC     80\n",
      "KY     80\n",
      "MI     71\n",
      "Name: locale, dtype: int64\n"
     ]
    }
   ],
   "source": [
    "# Count records by locale\n",
    "locale_counts = df['locale'].value_counts()\n",
    "print(locale_counts)\n"
   ]
  },
  {
   "cell_type": "code",
   "execution_count": 47,
   "metadata": {},
   "outputs": [],
   "source": [
    "df['timestamp'] = pd.to_numeric(df['timestamp'])\n",
    "df['timestamp'] = df['timestamp'].fillna(method='ffill')  # Forward fill as an example\n"
   ]
  },
  {
   "cell_type": "code",
   "execution_count": 48,
   "metadata": {},
   "outputs": [
    {
     "name": "stdout",
     "output_type": "stream",
     "text": [
      "NaT\n"
     ]
    }
   ],
   "source": [
    "# Calculate the average timestamp\n",
    "avg_timestamp = df['timestamp'].mean()\n",
    "avg_datetime = pd.to_datetime(avg_timestamp, unit='s')\n",
    "print(avg_datetime)\n"
   ]
  },
  {
   "cell_type": "code",
   "execution_count": 26,
   "metadata": {},
   "outputs": [],
   "source": [
    "# Extract date and time components\n",
    "df['day_of_week'] = df['timestamp'].dt.day_name()\n",
    "df['hour_of_day'] = df['timestamp'].dt.hour\n"
   ]
  },
  {
   "cell_type": "code",
   "execution_count": 27,
   "metadata": {},
   "outputs": [
    {
     "name": "stdout",
     "output_type": "stream",
     "text": [
      "   locale device_type  count\n",
      "0      AK     android      2\n",
      "1      AK         iOS      1\n",
      "2      AL     android      3\n",
      "3      AR     android      2\n",
      "4      AR         iOS      3\n",
      "..    ...         ...    ...\n",
      "85     WI     android      1\n",
      "86     WI         iOS      1\n",
      "87     WV     android      1\n",
      "88     WY     android      1\n",
      "89     WY         iOS      1\n",
      "\n",
      "[90 rows x 3 columns]\n"
     ]
    }
   ],
   "source": [
    "# Count records by locale and device type\n",
    "locale_device_counts = df.groupby(['locale', 'device_type']).size().reset_index(name='count')\n",
    "print(locale_device_counts)\n"
   ]
  },
  {
   "cell_type": "code",
   "execution_count": 28,
   "metadata": {},
   "outputs": [
    {
     "name": "stdout",
     "output_type": "stream",
     "text": [
      "iOS        111\n",
      "android    105\n",
      "Name: device_type, dtype: int64\n"
     ]
    }
   ],
   "source": [
    "# Count the number of records by device type\n",
    "device_counts = df['device_type'].value_counts()\n",
    "print(device_counts)\n"
   ]
  },
  {
   "cell_type": "code",
   "execution_count": 29,
   "metadata": {},
   "outputs": [
    {
     "name": "stdout",
     "output_type": "stream",
     "text": [
      "GA    8\n",
      "LA    8\n",
      "MO    8\n",
      "ND    8\n",
      "KY    7\n",
      "NC    7\n",
      "AZ    6\n",
      "NJ    6\n",
      "OK    6\n",
      "IA    6\n",
      "ME    6\n",
      "MN    6\n",
      "RI    6\n",
      "SD    6\n",
      "TN    6\n",
      "FL    6\n",
      "SC    6\n",
      "OH    6\n",
      "MD    5\n",
      "AR    5\n",
      "CO    5\n",
      "VA    5\n",
      "NE    5\n",
      "VT    5\n",
      "NM    5\n",
      "KS    4\n",
      "CT    4\n",
      "WA    4\n",
      "HI    4\n",
      "NY    4\n",
      "NH    4\n",
      "MI    4\n",
      "UT    4\n",
      "NV    3\n",
      "PA    3\n",
      "IN    3\n",
      "AK    3\n",
      "AL    3\n",
      "MS    3\n",
      "TX    3\n",
      "OR    2\n",
      "WI    2\n",
      "IL    2\n",
      "WY    2\n",
      "ID    2\n",
      "CA    2\n",
      "MT    1\n",
      "MA    1\n",
      "WV    1\n",
      "DE    1\n",
      "Name: locale, dtype: int64\n"
     ]
    }
   ],
   "source": [
    "# Count records by locale\n",
    "locale_counts = df['locale'].value_counts()\n",
    "print(locale_counts)\n"
   ]
  },
  {
   "cell_type": "code",
   "execution_count": 30,
   "metadata": {},
   "outputs": [
    {
     "name": "stdout",
     "output_type": "stream",
     "text": [
      "True    222\n",
      "Name: processed, dtype: int64\n"
     ]
    }
   ],
   "source": [
    "# Count processed vs. non-processed\n",
    "processed_counts = df['processed'].value_counts()\n",
    "print(processed_counts)\n"
   ]
  }
 ],
 "metadata": {
  "kernelspec": {
   "display_name": "Python 3",
   "language": "python",
   "name": "python3"
  },
  "language_info": {
   "codemirror_mode": {
    "name": "ipython",
    "version": 3
   },
   "file_extension": ".py",
   "mimetype": "text/x-python",
   "name": "python",
   "nbconvert_exporter": "python",
   "pygments_lexer": "ipython3",
   "version": "3.9.6"
  },
  "orig_nbformat": 4
 },
 "nbformat": 4,
 "nbformat_minor": 2
}
